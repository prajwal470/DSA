{
 "cells": [
  {
   "cell_type": "code",
   "execution_count": null,
   "id": "d6208486",
   "metadata": {},
   "outputs": [],
   "source": [
    "class Solution:\n",
    "    def topView(self, root):\n",
    "        #your code goes here\n",
    "\n",
    "        hash_map = {0 : root.val}\n",
    "\n",
    "        que = [(root , 0)]\n",
    "\n",
    "        while que:\n",
    "\n",
    "            curr , height = que.pop(0)\n",
    "\n",
    "            if curr.left:\n",
    "                que.append((curr.left , height - 1))\n",
    "            \n",
    "                if  height - 1 not in hash_map:\n",
    "                    hash_map[height-1] = curr.left.val\n",
    "\n",
    "            if curr.right:\n",
    "                que.append((curr.right , height + 1))\n",
    "\n",
    "                if height + 1 not in hash_map:\n",
    "                    hash_map[height + 1] = curr.right.val \n",
    "                    \n",
    "        return [hash_map[i] for i in sorted(hash_map)]   \n"
   ]
  },
  {
   "cell_type": "markdown",
   "id": "99cab7ac",
   "metadata": {},
   "source": [
    "the diffirance b/w this two is inntop view we keep old node value in bottom we will update "
   ]
  },
  {
   "cell_type": "code",
   "execution_count": null,
   "id": "54fdbc26",
   "metadata": {},
   "outputs": [],
   "source": [
    "class Solution:\n",
    "    def bottomView(self, root):\n",
    "        if not root:\n",
    "            return []\n",
    "\n",
    "        hash_map = {}\n",
    "        que = [(root, 0)]  # (node, horizontal distance)\n",
    "\n",
    "        while que:\n",
    "            curr, height = que.pop(0)\n",
    "\n",
    "            # Always update for bottom view\n",
    "            hash_map[height] = curr.data\n",
    "\n",
    "            if curr.left:\n",
    "                que.append((curr.left, height - 1))\n",
    "            if curr.right:\n",
    "                que.append((curr.right, height + 1))\n",
    "\n",
    "        return [hash_map[i] for i in sorted(hash_map)]"
   ]
  }
 ],
 "metadata": {
  "language_info": {
   "name": "python"
  }
 },
 "nbformat": 4,
 "nbformat_minor": 5
}
