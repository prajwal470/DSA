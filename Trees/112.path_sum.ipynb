{
 "cells": [
  {
   "cell_type": "markdown",
   "id": "4187e219",
   "metadata": {},
   "source": [
    "```\n",
    "\n",
    "🔹 **How it works:**\n",
    "\n",
    "* Subtract `node.val` from `target` at each step.\n",
    "* If a **leaf** is reached and `target == node.val`, return `True`.\n",
    "* Recursively explore left and right subtrees.\n",
    "\n",
    "📊 **Complexity:**\n",
    "\n",
    "* **Time:** `O(N)` (each node visited once)\n",
    "* **Space:** `O(H)` recursion stack, where `H` is tree height (worst-case `O(N)` for skewed tree, `O(log N)` for balanced tree)."
   ]
  },
  {
   "cell_type": "code",
   "execution_count": null,
   "id": "6055a8c1",
   "metadata": {},
   "outputs": [],
   "source": [
    "        \n",
    "def hasPathSum(self, root, targetSum):\n",
    "\n",
    "    def dfs(root , targetSum):\n",
    "\n",
    "        if not root:\n",
    "            return False\n",
    "\n",
    "        if root.left is None and root.right is None:\n",
    "            return targetSum == root.val\n",
    "\n",
    "        return dfs(root.left , targetSum - root.val) or dfs(root.right , targetSum - root.val)  \n",
    "    return dfs(root , targetSum)"
   ]
  },
  {
   "cell_type": "markdown",
   "id": "0209d976",
   "metadata": {},
   "source": [
    "🔹 **How it works:**\n",
    "\n",
    "* Use a stack to simulate recursion.\n",
    "* Store `(node, path_sum)` at each step.\n",
    "* Return `True` if a leaf with sum `targetSum` is found.\n",
    "\n",
    "📊 **Complexity:**\n",
    "\n",
    "* **Time:** `O(N)`\n",
    "* **Space:** `O(H)` for stack (same reasoning as recursion)."
   ]
  },
  {
   "cell_type": "code",
   "execution_count": null,
   "id": "1a0bd553",
   "metadata": {},
   "outputs": [],
   "source": [
    "        \n",
    "        \n",
    "def hasPathSum(self, root, targetSum):\n",
    "    if not root: return False\n",
    "\n",
    "    stack = [(root , root.val)]\n",
    "\n",
    "    while stack:\n",
    "        curr , val = stack.pop()\n",
    "\n",
    "        if not curr.left and not curr.right and val == targetSum:\n",
    "            return True\n",
    "        \n",
    "        if curr.right:\n",
    "            stack.append((curr.right , val+curr.right.val))\n",
    "        if curr.left:\n",
    "            stack.append((curr.left , val + curr.left.val))\n",
    "    \n",
    "    return False "
   ]
  },
  {
   "cell_type": "markdown",
   "id": "5d6c57c2",
   "metadata": {},
   "source": [
    "\n",
    "\n",
    "## 📝 BFS (Queue)\n",
    "\n",
    "```python\n",
    "from collections import deque\n",
    "\n",
    "class Solution:\n",
    "    def hasPathSum(self, root: Optional[TreeNode], targetSum: int) -> bool:\n",
    "        if not root:\n",
    "            return False\n",
    "\n",
    "        queue = deque([(root, root.val)])\n",
    "        while queue:\n",
    "            node, path_sum = queue.popleft()\n",
    "\n",
    "            if not node.left and not node.right and path_sum == targetSum:\n",
    "                return True\n",
    "\n",
    "            if node.left:\n",
    "                queue.append((node.left, path_sum + node.left.val))\n",
    "            if node.right:\n",
    "                queue.append((node.right, path_sum + node.right.val))\n",
    "\n",
    "        return False\n",
    "```\n",
    "\n",
    "🔹 **How it works:**\n",
    "\n",
    "* Perform **level-order traversal**.\n",
    "* Track running sum in the queue.\n",
    "* Return `True` if a valid leaf path is found.\n",
    "\n",
    "📊 **Complexity:**\n",
    "\n",
    "* **Time:** `O(N)`\n",
    "* **Space:** `O(W)` where `W` is max width of tree (can be `O(N)` in worst case)."
   ]
  },
  {
   "cell_type": "code",
   "execution_count": null,
   "id": "a1c53374",
   "metadata": {},
   "outputs": [],
   "source": []
  }
 ],
 "metadata": {
  "kernelspec": {
   "display_name": "anaconda",
   "language": "python",
   "name": "python3"
  },
  "language_info": {
   "name": "python",
   "version": "-1.-1.-1"
  }
 },
 "nbformat": 4,
 "nbformat_minor": 5
}
