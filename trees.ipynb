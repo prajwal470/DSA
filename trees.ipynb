{
 "cells": [
  {
   "cell_type": "code",
   "execution_count": null,
   "id": "37e8bb87",
   "metadata": {},
   "outputs": [],
   "source": [
    "# Binary tree\n"
   ]
  },
  {
   "cell_type": "code",
   "execution_count": 3,
   "id": "b310f751",
   "metadata": {},
   "outputs": [],
   "source": [
    "class Node:\n",
    "    def __init__(self, value, left=None, right=None):\n",
    "        self.value = value\n",
    "        self.left = left\n",
    "        self.right = right\n",
    "    \n",
    "    def __str__(self):\n",
    "        return str(self.value)"
   ]
  },
  {
   "cell_type": "code",
   "execution_count": 4,
   "id": "b526c7e2",
   "metadata": {},
   "outputs": [
    {
     "name": "stdout",
     "output_type": "stream",
     "text": [
      "1\n"
     ]
    }
   ],
   "source": [
    "# creating the tree Nodes\n",
    "# A is the root node\n",
    "\n",
    "\n",
    "A = Node(1)\n",
    "B = Node(2)\n",
    "C = Node(3)\n",
    "D = Node(4)\n",
    "E = Node(5)\n",
    "F = Node(6)\n",
    "G = Node(7)\n",
    "H = Node(8)\n",
    "I = Node(10)\n",
    "\n",
    "A.left = B\n",
    "A.right = C\n",
    "B.left = D\n",
    "B.right = E\n",
    "E.left = I \n",
    "C.left = F\n",
    "C.right = G\n",
    "G.left = H\n",
    "\n",
    "print(A)"
   ]
  },
  {
   "cell_type": "code",
   "execution_count": 26,
   "id": "ea25c60d",
   "metadata": {},
   "outputs": [
    {
     "name": "stdout",
     "output_type": "stream",
     "text": [
      "4 2 10 5 1 6 3 8 7 "
     ]
    }
   ],
   "source": [
    "# Binary tree traversal\n",
    "# Inorder traversal: Left, Root, Right\n",
    "# recursive implementation of inorder traversal\n",
    "\n",
    "def inorder_traversal(node):\n",
    "\n",
    "    if node is not None:\n",
    "\n",
    "        inorder_traversal(node.left)\n",
    "        print(node.value, end=' ')\n",
    "        inorder_traversal(node.right)\n",
    "\n",
    "inorder_traversal(A)"
   ]
  },
  {
   "cell_type": "code",
   "execution_count": 27,
   "id": "9e6ae2e0",
   "metadata": {},
   "outputs": [
    {
     "name": "stdout",
     "output_type": "stream",
     "text": [
      "1 2 4 5 10 3 6 7 8 "
     ]
    }
   ],
   "source": [
    "def preorder_traversal(node):\n",
    "    if node is not None:\n",
    "\n",
    "        print(node.value, end=' ')\n",
    "        preorder_traversal(node.left)\n",
    "        preorder_traversal(node.right)\n",
    "\n",
    "preorder_traversal(A)"
   ]
  },
  {
   "cell_type": "code",
   "execution_count": 28,
   "id": "8b88c4fa",
   "metadata": {},
   "outputs": [
    {
     "name": "stdout",
     "output_type": "stream",
     "text": [
      "4 10 5 2 6 8 7 3 1 "
     ]
    }
   ],
   "source": [
    "def postorder_traversal(node):\n",
    "    if node is not None:\n",
    "\n",
    "        postorder_traversal(node.left)\n",
    "        postorder_traversal(node.right)\n",
    "        print(node.value, end=' ')\n",
    "\n",
    "postorder_traversal(A)"
   ]
  },
  {
   "cell_type": "code",
   "execution_count": 32,
   "id": "04e51a30",
   "metadata": {},
   "outputs": [
    {
     "name": "stdout",
     "output_type": "stream",
     "text": [
      "[1, 2, 4, 5, 10, 3, 6, 7, 8]\n"
     ]
    }
   ],
   "source": [
    "def itr_preorder_traversal(node):\n",
    "\n",
    "    stack = [node]\n",
    "    res = []\n",
    "\n",
    "    while stack:\n",
    "\n",
    "        v = stack.pop()\n",
    "        if v is not None:\n",
    "            res.append(v.value)\n",
    "            stack.append(v.right)\n",
    "            stack.append(v.left)\n",
    "    print(res)\n",
    "itr_preorder_traversal(A)"
   ]
  },
  {
   "cell_type": "code",
   "execution_count": 33,
   "id": "f58afcff",
   "metadata": {},
   "outputs": [
    {
     "name": "stdout",
     "output_type": "stream",
     "text": [
      "4 2 10 5 1 6 3 8 7 "
     ]
    }
   ],
   "source": [
    "def itr_inorder_traversal(node):\n",
    "\n",
    "    stack = []\n",
    "    current = node\n",
    "\n",
    "    while stack or current:\n",
    "\n",
    "        while current:\n",
    "            stack.append(current)\n",
    "            current = current.left\n",
    "\n",
    "        current = stack.pop()\n",
    "        print(current.value, end=' ')\n",
    "        current = current.right\n",
    "itr_inorder_traversal(A)\n"
   ]
  },
  {
   "cell_type": "code",
   "execution_count": 24,
   "id": "5a41d27d",
   "metadata": {},
   "outputs": [
    {
     "name": "stdout",
     "output_type": "stream",
     "text": [
      "4 5 2 6 7 3 1 "
     ]
    }
   ],
   "source": [
    "def itr_postorder_traversal(node):\n",
    "\n",
    "    stack = []\n",
    "    current = node\n",
    "    last_visited_node = None\n",
    "\n",
    "    while stack or current:\n",
    "\n",
    "        while current:\n",
    "            stack.append(current)\n",
    "            current = current.left\n",
    "\n",
    "        peek_node = stack[-1]\n",
    "\n",
    "        if peek_node.right and last_visited_node != peek_node.right:\n",
    "            current = peek_node.right\n",
    "        else:\n",
    "            print(peek_node.value, end=' ')\n",
    "            last_visited_node = stack.pop()\n",
    "            current = None\n",
    "itr_postorder_traversal(A)\n",
    "\n"
   ]
  },
  {
   "cell_type": "code",
   "execution_count": 6,
   "id": "0617ba3e",
   "metadata": {},
   "outputs": [
    {
     "name": "stdout",
     "output_type": "stream",
     "text": [
      "1 2 3 4 5 6 7 10 8 "
     ]
    }
   ],
   "source": [
    "def level_order_traversal(node):\n",
    "    if not node:\n",
    "        return\n",
    "\n",
    "    queue = [node]\n",
    "\n",
    "    while queue:\n",
    "        current = queue.pop(0)\n",
    "        print(current.value, end=' ')\n",
    "\n",
    "        if current.left:\n",
    "            queue.append(current.left)\n",
    "        if current.right:\n",
    "            queue.append(current.right)\n",
    "level_order_traversal(A)"
   ]
  }
 ],
 "metadata": {
  "kernelspec": {
   "display_name": "Python 3",
   "language": "python",
   "name": "python3"
  },
  "language_info": {
   "codemirror_mode": {
    "name": "ipython",
    "version": 3
   },
   "file_extension": ".py",
   "mimetype": "text/x-python",
   "name": "python",
   "nbconvert_exporter": "python",
   "pygments_lexer": "ipython3",
   "version": "3.10.6"
  }
 },
 "nbformat": 4,
 "nbformat_minor": 5
}
